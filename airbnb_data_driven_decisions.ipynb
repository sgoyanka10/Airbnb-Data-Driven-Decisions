{
 "cells": [
  {
   "cell_type": "markdown",
   "id": "205207aa",
   "metadata": {},
   "source": [
    "### Importing Packages "
   ]
  },
  {
   "cell_type": "code",
   "execution_count": 1,
   "id": "3cdea97f",
   "metadata": {},
   "outputs": [],
   "source": [
    "import pandas as pd\n",
    "import numpy as np\n",
    "import matplotlib.pyplot as plt\n",
    "import seaborn as sns\n",
    "from statsmodels.api import OLS\n",
    "from scipy import stats\n",
    "import math\n",
    "from statsmodels.api import Logit\n",
    "import scipy.stats as scs\n",
    "from matplotlib.pyplot import figure\n",
    "import glob\n",
    "from nltk.sentiment.vader import SentimentIntensityAnalyzer\n",
    "from math import sin, cos, sqrt, atan2\n",
    "import geopy.distance\n",
    "from itertools import cycle, islice\n",
    "import math"
   ]
  },
  {
   "cell_type": "markdown",
   "id": "2837090b",
   "metadata": {},
   "source": [
    "### Reading data "
   ]
  },
  {
   "cell_type": "code",
   "execution_count": 2,
   "id": "2f149e58",
   "metadata": {},
   "outputs": [],
   "source": [
    "files_listings = glob.glob('Data/*listings1.csv')      #airbnb listings data\n",
    "files_reviews = glob.glob('Data/*reviews_data.csv')    #airbnb reveiws data"
   ]
  },
  {
   "cell_type": "markdown",
   "id": "d575f2b3",
   "metadata": {},
   "source": [
    "**Join listings files into a dataframe**"
   ]
  },
  {
   "cell_type": "code",
   "execution_count": 3,
   "id": "bb47b8cc",
   "metadata": {},
   "outputs": [
    {
     "data": {
      "text/html": [
       "<div>\n",
       "<style scoped>\n",
       "    .dataframe tbody tr th:only-of-type {\n",
       "        vertical-align: middle;\n",
       "    }\n",
       "\n",
       "    .dataframe tbody tr th {\n",
       "        vertical-align: top;\n",
       "    }\n",
       "\n",
       "    .dataframe thead th {\n",
       "        text-align: right;\n",
       "    }\n",
       "</style>\n",
       "<table border=\"1\" class=\"dataframe\">\n",
       "  <thead>\n",
       "    <tr style=\"text-align: right;\">\n",
       "      <th></th>\n",
       "      <th>id</th>\n",
       "      <th>host_is_superhost</th>\n",
       "      <th>neighbourhood</th>\n",
       "      <th>latitude</th>\n",
       "      <th>longitude</th>\n",
       "      <th>property_type</th>\n",
       "      <th>room_type</th>\n",
       "      <th>accommodates</th>\n",
       "      <th>bedrooms</th>\n",
       "      <th>beds</th>\n",
       "      <th>...</th>\n",
       "      <th>review_scores_accuracy</th>\n",
       "      <th>review_scores_cleanliness</th>\n",
       "      <th>review_scores_checkin</th>\n",
       "      <th>review_scores_communication</th>\n",
       "      <th>review_scores_location</th>\n",
       "      <th>review_scores_value</th>\n",
       "      <th>reviews_per_month</th>\n",
       "      <th>first_review</th>\n",
       "      <th>est_year</th>\n",
       "      <th>city</th>\n",
       "    </tr>\n",
       "  </thead>\n",
       "  <tbody>\n",
       "    <tr>\n",
       "      <th>0</th>\n",
       "      <td>1125097</td>\n",
       "      <td>t</td>\n",
       "      <td>Angaston, South Australia, Australia</td>\n",
       "      <td>-34.49389</td>\n",
       "      <td>139.02942</td>\n",
       "      <td>Entire cottage</td>\n",
       "      <td>Entire home/apt</td>\n",
       "      <td>2</td>\n",
       "      <td>1.0</td>\n",
       "      <td>1.0</td>\n",
       "      <td>...</td>\n",
       "      <td>4.96</td>\n",
       "      <td>4.89</td>\n",
       "      <td>4.99</td>\n",
       "      <td>4.99</td>\n",
       "      <td>4.96</td>\n",
       "      <td>4.71</td>\n",
       "      <td>1.47</td>\n",
       "      <td>2013-09-13</td>\n",
       "      <td>2013.0</td>\n",
       "      <td>beijing</td>\n",
       "    </tr>\n",
       "    <tr>\n",
       "      <th>1</th>\n",
       "      <td>1133195</td>\n",
       "      <td>t</td>\n",
       "      <td>Angaston, South Australia, Australia</td>\n",
       "      <td>-34.49403</td>\n",
       "      <td>139.03202</td>\n",
       "      <td>Entire cottage</td>\n",
       "      <td>Entire home/apt</td>\n",
       "      <td>2</td>\n",
       "      <td>1.0</td>\n",
       "      <td>1.0</td>\n",
       "      <td>...</td>\n",
       "      <td>4.80</td>\n",
       "      <td>4.87</td>\n",
       "      <td>4.98</td>\n",
       "      <td>4.87</td>\n",
       "      <td>4.89</td>\n",
       "      <td>4.60</td>\n",
       "      <td>0.52</td>\n",
       "      <td>2014-09-30</td>\n",
       "      <td>2014.0</td>\n",
       "      <td>beijing</td>\n",
       "    </tr>\n",
       "    <tr>\n",
       "      <th>2</th>\n",
       "      <td>1133236</td>\n",
       "      <td>t</td>\n",
       "      <td>Angaston, South Australia, Australia</td>\n",
       "      <td>-34.49356</td>\n",
       "      <td>139.03221</td>\n",
       "      <td>Private room in rental unit</td>\n",
       "      <td>Private room</td>\n",
       "      <td>2</td>\n",
       "      <td>1.0</td>\n",
       "      <td>0.0</td>\n",
       "      <td>...</td>\n",
       "      <td>4.89</td>\n",
       "      <td>4.95</td>\n",
       "      <td>4.97</td>\n",
       "      <td>4.95</td>\n",
       "      <td>4.92</td>\n",
       "      <td>4.57</td>\n",
       "      <td>0.39</td>\n",
       "      <td>2014-01-27</td>\n",
       "      <td>2014.0</td>\n",
       "      <td>beijing</td>\n",
       "    </tr>\n",
       "    <tr>\n",
       "      <th>3</th>\n",
       "      <td>1710462</td>\n",
       "      <td>f</td>\n",
       "      <td>Shea-Oak Log, South Australia, Australia</td>\n",
       "      <td>-34.51049</td>\n",
       "      <td>138.81731</td>\n",
       "      <td>Entire cabin</td>\n",
       "      <td>Entire home/apt</td>\n",
       "      <td>2</td>\n",
       "      <td>1.0</td>\n",
       "      <td>1.0</td>\n",
       "      <td>...</td>\n",
       "      <td>4.86</td>\n",
       "      <td>4.76</td>\n",
       "      <td>4.97</td>\n",
       "      <td>4.95</td>\n",
       "      <td>4.62</td>\n",
       "      <td>4.85</td>\n",
       "      <td>13.19</td>\n",
       "      <td>2018-11-25</td>\n",
       "      <td>2018.0</td>\n",
       "      <td>beijing</td>\n",
       "    </tr>\n",
       "    <tr>\n",
       "      <th>4</th>\n",
       "      <td>1787389</td>\n",
       "      <td>f</td>\n",
       "      <td>Tanunda, South Australia, Australia</td>\n",
       "      <td>-34.52835</td>\n",
       "      <td>138.95364</td>\n",
       "      <td>Entire rental unit</td>\n",
       "      <td>Entire home/apt</td>\n",
       "      <td>4</td>\n",
       "      <td>2.0</td>\n",
       "      <td>2.0</td>\n",
       "      <td>...</td>\n",
       "      <td>4.59</td>\n",
       "      <td>4.76</td>\n",
       "      <td>4.88</td>\n",
       "      <td>4.88</td>\n",
       "      <td>4.88</td>\n",
       "      <td>4.13</td>\n",
       "      <td>0.24</td>\n",
       "      <td>2016-01-05</td>\n",
       "      <td>2016.0</td>\n",
       "      <td>beijing</td>\n",
       "    </tr>\n",
       "  </tbody>\n",
       "</table>\n",
       "<p>5 rows × 22 columns</p>\n",
       "</div>"
      ],
      "text/plain": [
       "        id host_is_superhost                             neighbourhood  \\\n",
       "0  1125097                 t      Angaston, South Australia, Australia   \n",
       "1  1133195                 t      Angaston, South Australia, Australia   \n",
       "2  1133236                 t      Angaston, South Australia, Australia   \n",
       "3  1710462                 f  Shea-Oak Log, South Australia, Australia   \n",
       "4  1787389                 f       Tanunda, South Australia, Australia   \n",
       "\n",
       "   latitude  longitude                property_type        room_type  \\\n",
       "0 -34.49389  139.02942               Entire cottage  Entire home/apt   \n",
       "1 -34.49403  139.03202               Entire cottage  Entire home/apt   \n",
       "2 -34.49356  139.03221  Private room in rental unit     Private room   \n",
       "3 -34.51049  138.81731                 Entire cabin  Entire home/apt   \n",
       "4 -34.52835  138.95364           Entire rental unit  Entire home/apt   \n",
       "\n",
       "   accommodates  bedrooms  beds  ... review_scores_accuracy  \\\n",
       "0             2       1.0   1.0  ...                   4.96   \n",
       "1             2       1.0   1.0  ...                   4.80   \n",
       "2             2       1.0   0.0  ...                   4.89   \n",
       "3             2       1.0   1.0  ...                   4.86   \n",
       "4             4       2.0   2.0  ...                   4.59   \n",
       "\n",
       "   review_scores_cleanliness  review_scores_checkin  \\\n",
       "0                       4.89                   4.99   \n",
       "1                       4.87                   4.98   \n",
       "2                       4.95                   4.97   \n",
       "3                       4.76                   4.97   \n",
       "4                       4.76                   4.88   \n",
       "\n",
       "   review_scores_communication  review_scores_location  review_scores_value  \\\n",
       "0                         4.99                    4.96                 4.71   \n",
       "1                         4.87                    4.89                 4.60   \n",
       "2                         4.95                    4.92                 4.57   \n",
       "3                         4.95                    4.62                 4.85   \n",
       "4                         4.88                    4.88                 4.13   \n",
       "\n",
       "   reviews_per_month  first_review  est_year     city  \n",
       "0               1.47    2013-09-13    2013.0  beijing  \n",
       "1               0.52    2014-09-30    2014.0  beijing  \n",
       "2               0.39    2014-01-27    2014.0  beijing  \n",
       "3              13.19    2018-11-25    2018.0  beijing  \n",
       "4               0.24    2016-01-05    2016.0  beijing  \n",
       "\n",
       "[5 rows x 22 columns]"
      ]
     },
     "execution_count": 3,
     "metadata": {},
     "output_type": "execute_result"
    }
   ],
   "source": [
    "df_listings = pd.DataFrame()\n",
    "\n",
    "for file in files_listings:\n",
    "    df = pd.read_csv(file) #read csv\n",
    "    df = df[['id', 'host_is_superhost', 'neighbourhood', 'latitude', 'longitude','property_type', 'room_type', \n",
    "            'accommodates', 'bedrooms', 'beds', 'price', 'review_scores_rating', 'review_scores_accuracy',\n",
    "             'review_scores_cleanliness', 'review_scores_checkin','review_scores_communication', 'review_scores_location',\n",
    "             'review_scores_value', 'reviews_per_month', 'first_review' ]]\n",
    "    df['first_review'] = pd.to_datetime(df['first_review'])\n",
    "    df['est_year'] = pd.DatetimeIndex(df['first_review']).year\n",
    "    df['est_year'] = df['est_year'].astype('str')\n",
    "    city = file.split('/')[1].split('_')[0]\n",
    "    df['city'] = city\n",
    "    df_listings = df_listings.append(df)\n",
    "    \n",
    "df_listings.head()"
   ]
  },
  {
   "cell_type": "markdown",
   "id": "aa2514f8",
   "metadata": {},
   "source": [
    "**Join reviews files into a dataframe**"
   ]
  },
  {
   "cell_type": "code",
   "execution_count": 4,
   "id": "57f6da87",
   "metadata": {},
   "outputs": [
    {
     "data": {
      "text/html": [
       "<div>\n",
       "<style scoped>\n",
       "    .dataframe tbody tr th:only-of-type {\n",
       "        vertical-align: middle;\n",
       "    }\n",
       "\n",
       "    .dataframe tbody tr th {\n",
       "        vertical-align: top;\n",
       "    }\n",
       "\n",
       "    .dataframe thead th {\n",
       "        text-align: right;\n",
       "    }\n",
       "</style>\n",
       "<table border=\"1\" class=\"dataframe\">\n",
       "  <thead>\n",
       "    <tr style=\"text-align: right;\">\n",
       "      <th></th>\n",
       "      <th>listing_id</th>\n",
       "      <th>date</th>\n",
       "      <th>comments</th>\n",
       "      <th>city</th>\n",
       "    </tr>\n",
       "  </thead>\n",
       "  <tbody>\n",
       "    <tr>\n",
       "      <th>28</th>\n",
       "      <td>2595</td>\n",
       "      <td>2018-01-01</td>\n",
       "      <td>Great place. Would definitely recommend! Jenni...</td>\n",
       "      <td>newyork</td>\n",
       "    </tr>\n",
       "    <tr>\n",
       "      <th>29</th>\n",
       "      <td>2595</td>\n",
       "      <td>2018-04-29</td>\n",
       "      <td>We really enjoyed our stay at Jennifer’s apart...</td>\n",
       "      <td>newyork</td>\n",
       "    </tr>\n",
       "    <tr>\n",
       "      <th>30</th>\n",
       "      <td>2595</td>\n",
       "      <td>2018-05-18</td>\n",
       "      <td>This apartment is convenient and functional.  ...</td>\n",
       "      <td>newyork</td>\n",
       "    </tr>\n",
       "    <tr>\n",
       "      <th>31</th>\n",
       "      <td>2595</td>\n",
       "      <td>2018-05-27</td>\n",
       "      <td>The Midtown Castle is a beautiful place to sta...</td>\n",
       "      <td>newyork</td>\n",
       "    </tr>\n",
       "    <tr>\n",
       "      <th>32</th>\n",
       "      <td>2595</td>\n",
       "      <td>2018-06-06</td>\n",
       "      <td>Jennifer is very nice and responsive. The loca...</td>\n",
       "      <td>newyork</td>\n",
       "    </tr>\n",
       "  </tbody>\n",
       "</table>\n",
       "</div>"
      ],
      "text/plain": [
       "    listing_id       date                                           comments  \\\n",
       "28        2595 2018-01-01  Great place. Would definitely recommend! Jenni...   \n",
       "29        2595 2018-04-29  We really enjoyed our stay at Jennifer’s apart...   \n",
       "30        2595 2018-05-18  This apartment is convenient and functional.  ...   \n",
       "31        2595 2018-05-27  The Midtown Castle is a beautiful place to sta...   \n",
       "32        2595 2018-06-06  Jennifer is very nice and responsive. The loca...   \n",
       "\n",
       "       city  \n",
       "28  newyork  \n",
       "29  newyork  \n",
       "30  newyork  \n",
       "31  newyork  \n",
       "32  newyork  "
      ]
     },
     "execution_count": 4,
     "metadata": {},
     "output_type": "execute_result"
    }
   ],
   "source": [
    "df_reviews = pd.DataFrame()\n",
    "\n",
    "for file in files_reviews:\n",
    "    df = pd.read_csv(file) #read file\n",
    "    df['date'] = pd.to_datetime(df['date'])\n",
    "    df = df[df['date']>='2018-01-01']\n",
    "    df.drop(columns = ['id', 'reviewer_id', 'reviewer_name'], inplace=True)\n",
    "    city = file.split('/')[1].split('_')[0]\n",
    "    df['city'] = city\n",
    "    df_reviews = df_reviews.append(df)\n",
    "    \n",
    "df_reviews.head()"
   ]
  },
  {
   "cell_type": "markdown",
   "id": "a25e8564",
   "metadata": {},
   "source": [
    "### Sentiment Analysis on the reviews "
   ]
  },
  {
   "cell_type": "code",
   "execution_count": 5,
   "id": "9d2662d2",
   "metadata": {},
   "outputs": [],
   "source": [
    "#Using Vader sentiment analyzser to get sentiment score of reviews\n",
    "sid=SentimentIntensityAnalyzer()\n",
    "def sentimentscore(x):\n",
    "    try:\n",
    "        pos = 0.0\n",
    "        neg = 0.0\n",
    "        overall = 0.0\n",
    "        document = str(x['comments'])\n",
    "        ss = sid.polarity_scores(document)\n",
    "        pos = ss['pos']\n",
    "        neg = ss['neg']\n",
    "        overall = ss['compound']\n",
    "        return pos, neg, overall \n",
    "    except Exception as e:\n",
    "        pass\n",
    "    finally:\n",
    "        return pos, neg, overall\n",
    "\n",
    "df_reviews['%postitive'], df_reviews['%negative'], df_reviews['%overall'] =  df_reviews.apply(sentimentscore, axis=1, result_type='expand').T.values"
   ]
  },
  {
   "cell_type": "code",
   "execution_count": 6,
   "id": "113a5f26",
   "metadata": {},
   "outputs": [
    {
     "data": {
      "text/html": [
       "<div>\n",
       "<style scoped>\n",
       "    .dataframe tbody tr th:only-of-type {\n",
       "        vertical-align: middle;\n",
       "    }\n",
       "\n",
       "    .dataframe tbody tr th {\n",
       "        vertical-align: top;\n",
       "    }\n",
       "\n",
       "    .dataframe thead th {\n",
       "        text-align: right;\n",
       "    }\n",
       "</style>\n",
       "<table border=\"1\" class=\"dataframe\">\n",
       "  <thead>\n",
       "    <tr style=\"text-align: right;\">\n",
       "      <th></th>\n",
       "      <th>listing_id</th>\n",
       "      <th>date</th>\n",
       "      <th>comments</th>\n",
       "      <th>city</th>\n",
       "      <th>%postitive</th>\n",
       "      <th>%negative</th>\n",
       "      <th>%overall</th>\n",
       "    </tr>\n",
       "  </thead>\n",
       "  <tbody>\n",
       "    <tr>\n",
       "      <th>28</th>\n",
       "      <td>2595</td>\n",
       "      <td>2018-01-01</td>\n",
       "      <td>Great place. Would definitely recommend! Jenni...</td>\n",
       "      <td>newyork</td>\n",
       "      <td>0.696</td>\n",
       "      <td>0.00</td>\n",
       "      <td>0.9437</td>\n",
       "    </tr>\n",
       "    <tr>\n",
       "      <th>29</th>\n",
       "      <td>2595</td>\n",
       "      <td>2018-04-29</td>\n",
       "      <td>We really enjoyed our stay at Jennifer’s apart...</td>\n",
       "      <td>newyork</td>\n",
       "      <td>0.152</td>\n",
       "      <td>0.00</td>\n",
       "      <td>0.9019</td>\n",
       "    </tr>\n",
       "    <tr>\n",
       "      <th>30</th>\n",
       "      <td>2595</td>\n",
       "      <td>2018-05-18</td>\n",
       "      <td>This apartment is convenient and functional.  ...</td>\n",
       "      <td>newyork</td>\n",
       "      <td>0.145</td>\n",
       "      <td>0.00</td>\n",
       "      <td>0.5256</td>\n",
       "    </tr>\n",
       "    <tr>\n",
       "      <th>31</th>\n",
       "      <td>2595</td>\n",
       "      <td>2018-05-27</td>\n",
       "      <td>The Midtown Castle is a beautiful place to sta...</td>\n",
       "      <td>newyork</td>\n",
       "      <td>0.304</td>\n",
       "      <td>0.00</td>\n",
       "      <td>0.9371</td>\n",
       "    </tr>\n",
       "    <tr>\n",
       "      <th>32</th>\n",
       "      <td>2595</td>\n",
       "      <td>2018-06-06</td>\n",
       "      <td>Jennifer is very nice and responsive. The loca...</td>\n",
       "      <td>newyork</td>\n",
       "      <td>0.170</td>\n",
       "      <td>0.08</td>\n",
       "      <td>0.8274</td>\n",
       "    </tr>\n",
       "  </tbody>\n",
       "</table>\n",
       "</div>"
      ],
      "text/plain": [
       "    listing_id       date                                           comments  \\\n",
       "28        2595 2018-01-01  Great place. Would definitely recommend! Jenni...   \n",
       "29        2595 2018-04-29  We really enjoyed our stay at Jennifer’s apart...   \n",
       "30        2595 2018-05-18  This apartment is convenient and functional.  ...   \n",
       "31        2595 2018-05-27  The Midtown Castle is a beautiful place to sta...   \n",
       "32        2595 2018-06-06  Jennifer is very nice and responsive. The loca...   \n",
       "\n",
       "       city  %postitive  %negative  %overall  \n",
       "28  newyork       0.696       0.00    0.9437  \n",
       "29  newyork       0.152       0.00    0.9019  \n",
       "30  newyork       0.145       0.00    0.5256  \n",
       "31  newyork       0.304       0.00    0.9371  \n",
       "32  newyork       0.170       0.08    0.8274  "
      ]
     },
     "execution_count": 6,
     "metadata": {},
     "output_type": "execute_result"
    }
   ],
   "source": [
    "df_reviews.head()"
   ]
  },
  {
   "cell_type": "markdown",
   "id": "92fc4f42",
   "metadata": {},
   "source": [
    "### Data Preparation "
   ]
  },
  {
   "cell_type": "code",
   "execution_count": 7,
   "id": "619ae6f7",
   "metadata": {},
   "outputs": [
    {
     "data": {
      "text/html": [
       "<div>\n",
       "<style scoped>\n",
       "    .dataframe tbody tr th:only-of-type {\n",
       "        vertical-align: middle;\n",
       "    }\n",
       "\n",
       "    .dataframe tbody tr th {\n",
       "        vertical-align: top;\n",
       "    }\n",
       "\n",
       "    .dataframe thead th {\n",
       "        text-align: right;\n",
       "    }\n",
       "</style>\n",
       "<table border=\"1\" class=\"dataframe\">\n",
       "  <thead>\n",
       "    <tr style=\"text-align: right;\">\n",
       "      <th></th>\n",
       "      <th>id</th>\n",
       "      <th>host_is_superhost</th>\n",
       "      <th>neighbourhood</th>\n",
       "      <th>latitude</th>\n",
       "      <th>longitude</th>\n",
       "      <th>property_type</th>\n",
       "      <th>room_type</th>\n",
       "      <th>accommodates</th>\n",
       "      <th>bedrooms</th>\n",
       "      <th>beds</th>\n",
       "      <th>...</th>\n",
       "      <th>review_scores_communication</th>\n",
       "      <th>review_scores_location</th>\n",
       "      <th>review_scores_value</th>\n",
       "      <th>reviews_per_month</th>\n",
       "      <th>first_review</th>\n",
       "      <th>est_year</th>\n",
       "      <th>city</th>\n",
       "      <th>nearbyhost</th>\n",
       "      <th>nearbysuperhost</th>\n",
       "      <th>nearbyprivateroom</th>\n",
       "    </tr>\n",
       "  </thead>\n",
       "  <tbody>\n",
       "    <tr>\n",
       "      <th>45</th>\n",
       "      <td>14031240</td>\n",
       "      <td>t</td>\n",
       "      <td>NaN</td>\n",
       "      <td>-34.53891</td>\n",
       "      <td>138.97053</td>\n",
       "      <td>Room in bed and breakfast</td>\n",
       "      <td>Hotel room</td>\n",
       "      <td>2</td>\n",
       "      <td>1.0</td>\n",
       "      <td>1.0</td>\n",
       "      <td>...</td>\n",
       "      <td>5.00</td>\n",
       "      <td>5.00</td>\n",
       "      <td>4.93</td>\n",
       "      <td>0.24</td>\n",
       "      <td>2016-10-07</td>\n",
       "      <td>2016.0</td>\n",
       "      <td>beijing</td>\n",
       "      <td>0</td>\n",
       "      <td>0</td>\n",
       "      <td>0</td>\n",
       "    </tr>\n",
       "    <tr>\n",
       "      <th>0</th>\n",
       "      <td>50904</td>\n",
       "      <td>f</td>\n",
       "      <td>NaN</td>\n",
       "      <td>51.21825</td>\n",
       "      <td>4.39901</td>\n",
       "      <td>Room in boutique hotel</td>\n",
       "      <td>Hotel room</td>\n",
       "      <td>2</td>\n",
       "      <td>1.0</td>\n",
       "      <td>1.0</td>\n",
       "      <td>...</td>\n",
       "      <td>5.00</td>\n",
       "      <td>5.00</td>\n",
       "      <td>5.00</td>\n",
       "      <td>0.03</td>\n",
       "      <td>2015-05-06</td>\n",
       "      <td>2015.0</td>\n",
       "      <td>antwerp</td>\n",
       "      <td>1</td>\n",
       "      <td>1</td>\n",
       "      <td>0</td>\n",
       "    </tr>\n",
       "    <tr>\n",
       "      <th>17</th>\n",
       "      <td>891884</td>\n",
       "      <td>f</td>\n",
       "      <td>Antwerp, Flemish Region, Belgium</td>\n",
       "      <td>51.21825</td>\n",
       "      <td>4.39901</td>\n",
       "      <td>Room in boutique hotel</td>\n",
       "      <td>Hotel room</td>\n",
       "      <td>2</td>\n",
       "      <td>1.0</td>\n",
       "      <td>1.0</td>\n",
       "      <td>...</td>\n",
       "      <td>5.00</td>\n",
       "      <td>5.00</td>\n",
       "      <td>4.50</td>\n",
       "      <td>0.08</td>\n",
       "      <td>2019-10-20</td>\n",
       "      <td>2019.0</td>\n",
       "      <td>antwerp</td>\n",
       "      <td>1</td>\n",
       "      <td>1</td>\n",
       "      <td>0</td>\n",
       "    </tr>\n",
       "    <tr>\n",
       "      <th>720</th>\n",
       "      <td>33005678</td>\n",
       "      <td>f</td>\n",
       "      <td>NaN</td>\n",
       "      <td>51.21039</td>\n",
       "      <td>4.42708</td>\n",
       "      <td>Room in aparthotel</td>\n",
       "      <td>Hotel room</td>\n",
       "      <td>2</td>\n",
       "      <td>1.0</td>\n",
       "      <td>2.0</td>\n",
       "      <td>...</td>\n",
       "      <td>4.76</td>\n",
       "      <td>4.18</td>\n",
       "      <td>4.35</td>\n",
       "      <td>0.56</td>\n",
       "      <td>2019-05-05</td>\n",
       "      <td>2019.0</td>\n",
       "      <td>antwerp</td>\n",
       "      <td>1</td>\n",
       "      <td>1</td>\n",
       "      <td>0</td>\n",
       "    </tr>\n",
       "    <tr>\n",
       "      <th>721</th>\n",
       "      <td>33005778</td>\n",
       "      <td>f</td>\n",
       "      <td>NaN</td>\n",
       "      <td>51.21039</td>\n",
       "      <td>4.42708</td>\n",
       "      <td>Room in aparthotel</td>\n",
       "      <td>Hotel room</td>\n",
       "      <td>2</td>\n",
       "      <td>1.0</td>\n",
       "      <td>2.0</td>\n",
       "      <td>...</td>\n",
       "      <td>4.30</td>\n",
       "      <td>4.00</td>\n",
       "      <td>3.96</td>\n",
       "      <td>0.75</td>\n",
       "      <td>2019-04-22</td>\n",
       "      <td>2019.0</td>\n",
       "      <td>antwerp</td>\n",
       "      <td>1</td>\n",
       "      <td>1</td>\n",
       "      <td>0</td>\n",
       "    </tr>\n",
       "  </tbody>\n",
       "</table>\n",
       "<p>5 rows × 25 columns</p>\n",
       "</div>"
      ],
      "text/plain": [
       "           id host_is_superhost                     neighbourhood  latitude  \\\n",
       "45   14031240                 t                               NaN -34.53891   \n",
       "0       50904                 f                               NaN  51.21825   \n",
       "17     891884                 f  Antwerp, Flemish Region, Belgium  51.21825   \n",
       "720  33005678                 f                               NaN  51.21039   \n",
       "721  33005778                 f                               NaN  51.21039   \n",
       "\n",
       "     longitude              property_type   room_type  accommodates  bedrooms  \\\n",
       "45   138.97053  Room in bed and breakfast  Hotel room             2       1.0   \n",
       "0      4.39901     Room in boutique hotel  Hotel room             2       1.0   \n",
       "17     4.39901     Room in boutique hotel  Hotel room             2       1.0   \n",
       "720    4.42708         Room in aparthotel  Hotel room             2       1.0   \n",
       "721    4.42708         Room in aparthotel  Hotel room             2       1.0   \n",
       "\n",
       "     beds  ... review_scores_communication  review_scores_location  \\\n",
       "45    1.0  ...                        5.00                    5.00   \n",
       "0     1.0  ...                        5.00                    5.00   \n",
       "17    1.0  ...                        5.00                    5.00   \n",
       "720   2.0  ...                        4.76                    4.18   \n",
       "721   2.0  ...                        4.30                    4.00   \n",
       "\n",
       "     review_scores_value  reviews_per_month  first_review  est_year     city  \\\n",
       "45                  4.93               0.24    2016-10-07    2016.0  beijing   \n",
       "0                   5.00               0.03    2015-05-06    2015.0  antwerp   \n",
       "17                  4.50               0.08    2019-10-20    2019.0  antwerp   \n",
       "720                 4.35               0.56    2019-05-05    2019.0  antwerp   \n",
       "721                 3.96               0.75    2019-04-22    2019.0  antwerp   \n",
       "\n",
       "     nearbyhost  nearbysuperhost nearbyprivateroom  \n",
       "45            0                0                 0  \n",
       "0             1                1                 0  \n",
       "17            1                1                 0  \n",
       "720           1                1                 0  \n",
       "721           1                1                 0  \n",
       "\n",
       "[5 rows x 25 columns]"
      ]
     },
     "execution_count": 7,
     "metadata": {},
     "output_type": "execute_result"
    }
   ],
   "source": [
    "df_hotels = df_listings[df_listings['room_type'] == 'Hotel room'].copy()\n",
    "df_others = df_listings[~(df_listings['room_type'] == 'Hotel room')].copy()\n",
    "\n",
    "df_hotels['nearbyhost'] = 0\n",
    "df_hotels['nearbysuperhost'] = 0\n",
    "df_hotels['nearbyprivateroom'] = 0\n",
    "\n",
    "df1 = pd.DataFrame()\n",
    "df2 = pd.DataFrame()\n",
    "for i,r in df_hotels.iterrows():\n",
    "    c1 = (r['latitude'], r['longitude'])\n",
    "    df_others1 = df_others[df_others['city'] == r['city']]\n",
    "    flag = 0\n",
    "    flag1 = 0\n",
    "    flag2 = 0\n",
    "    \n",
    "    for y in df_others1.itertuples():\n",
    "        c2 = (y.latitude , y.longitude)\n",
    "        if(geopy.distance.distance(c1, c2).km<=0.1):\n",
    "            flag = 1\n",
    "            break\n",
    "    if flag == 1:\n",
    "        df_hotels.loc[i,'nearbyhost'] = 1\n",
    "        \n",
    "    for y in df_others1.itertuples():\n",
    "        c2 = (y.latitude , y.longitude)\n",
    "        if(geopy.distance.distance(c1, c2).km<=0.1):\n",
    "            if(y.host_is_superhost == 't'):\n",
    "                flag1 = 1\n",
    "                break\n",
    "    if flag1 == 1:\n",
    "        df_hotels.loc[i,'nearbysuperhost'] = 1\n",
    "     \n",
    "    df_others2 = df_others1[df_others1['room_type'] == 'Private room']\n",
    "    for y in df_others2.itertuples():\n",
    "        c2 = (y.latitude , y.longitude)\n",
    "        if(geopy.distance.distance(c1, c2).km<=0.1):\n",
    "            if(y.host_is_superhost == 't'):\n",
    "                flag2 = 1\n",
    "                break\n",
    "    if flag2 == 1:\n",
    "        df_hotels.loc[i,'nearbyprivateroom'] = 1\n",
    "        \n",
    "df_hotels.head()"
   ]
  },
  {
   "cell_type": "code",
   "execution_count": 8,
   "id": "c77e8623",
   "metadata": {},
   "outputs": [
    {
     "data": {
      "text/plain": [
       "(107, 1554)"
      ]
     },
     "execution_count": 8,
     "metadata": {},
     "output_type": "execute_result"
    }
   ],
   "source": [
    "len(df_hotels[df_hotels['nearbyhost'] == 0]), len(df_hotels[df_hotels['nearbyhost'] == 1])"
   ]
  },
  {
   "cell_type": "code",
   "execution_count": 9,
   "id": "5858cef1",
   "metadata": {},
   "outputs": [
    {
     "data": {
      "text/plain": [
       "(503, 1158)"
      ]
     },
     "execution_count": 9,
     "metadata": {},
     "output_type": "execute_result"
    }
   ],
   "source": [
    "len(df_hotels[df_hotels['nearbysuperhost'] == 0]), len(df_hotels[df_hotels['nearbysuperhost'] == 1])"
   ]
  },
  {
   "cell_type": "code",
   "execution_count": 10,
   "id": "48c3d982",
   "metadata": {},
   "outputs": [
    {
     "data": {
      "text/plain": [
       "(992, 669)"
      ]
     },
     "execution_count": 10,
     "metadata": {},
     "output_type": "execute_result"
    }
   ],
   "source": [
    "len(df_hotels[df_hotels['nearbyprivateroom'] == 0]), len(df_hotels[df_hotels['nearbyprivateroom'] == 1])"
   ]
  },
  {
   "cell_type": "code",
   "execution_count": 11,
   "id": "988c21b2",
   "metadata": {},
   "outputs": [
    {
     "data": {
      "text/html": [
       "<div>\n",
       "<style scoped>\n",
       "    .dataframe tbody tr th:only-of-type {\n",
       "        vertical-align: middle;\n",
       "    }\n",
       "\n",
       "    .dataframe tbody tr th {\n",
       "        vertical-align: top;\n",
       "    }\n",
       "\n",
       "    .dataframe thead th {\n",
       "        text-align: right;\n",
       "    }\n",
       "</style>\n",
       "<table border=\"1\" class=\"dataframe\">\n",
       "  <thead>\n",
       "    <tr style=\"text-align: right;\">\n",
       "      <th></th>\n",
       "      <th>id</th>\n",
       "      <th>%overall</th>\n",
       "      <th>#listings</th>\n",
       "    </tr>\n",
       "  </thead>\n",
       "  <tbody>\n",
       "    <tr>\n",
       "      <th>0</th>\n",
       "      <td>2265</td>\n",
       "      <td>0.892600</td>\n",
       "      <td>6</td>\n",
       "    </tr>\n",
       "    <tr>\n",
       "      <th>1</th>\n",
       "      <td>2595</td>\n",
       "      <td>0.678415</td>\n",
       "      <td>20</td>\n",
       "    </tr>\n",
       "    <tr>\n",
       "      <th>2</th>\n",
       "      <td>2818</td>\n",
       "      <td>0.784548</td>\n",
       "      <td>64</td>\n",
       "    </tr>\n",
       "    <tr>\n",
       "      <th>3</th>\n",
       "      <td>3831</td>\n",
       "      <td>0.680349</td>\n",
       "      <td>242</td>\n",
       "    </tr>\n",
       "    <tr>\n",
       "      <th>4</th>\n",
       "      <td>5121</td>\n",
       "      <td>0.966800</td>\n",
       "      <td>1</td>\n",
       "    </tr>\n",
       "  </tbody>\n",
       "</table>\n",
       "</div>"
      ],
      "text/plain": [
       "     id  %overall  #listings\n",
       "0  2265  0.892600          6\n",
       "1  2595  0.678415         20\n",
       "2  2818  0.784548         64\n",
       "3  3831  0.680349        242\n",
       "4  5121  0.966800          1"
      ]
     },
     "execution_count": 11,
     "metadata": {},
     "output_type": "execute_result"
    }
   ],
   "source": [
    "df_hotels['est_year'] = df_hotels['est_year'].astype(float)\n",
    "df_temp = df_reviews.groupby(['listing_id']).agg({'%overall':'mean','date':'count'}).reset_index()\n",
    "df_temp.rename(columns = {'date':'#listings', 'listing_id':'id'}, inplace=True)\n",
    "df_temp.head()"
   ]
  },
  {
   "cell_type": "code",
   "execution_count": 12,
   "id": "46395bbd",
   "metadata": {},
   "outputs": [
    {
     "data": {
      "text/html": [
       "<div>\n",
       "<style scoped>\n",
       "    .dataframe tbody tr th:only-of-type {\n",
       "        vertical-align: middle;\n",
       "    }\n",
       "\n",
       "    .dataframe tbody tr th {\n",
       "        vertical-align: top;\n",
       "    }\n",
       "\n",
       "    .dataframe thead th {\n",
       "        text-align: right;\n",
       "    }\n",
       "</style>\n",
       "<table border=\"1\" class=\"dataframe\">\n",
       "  <thead>\n",
       "    <tr style=\"text-align: right;\">\n",
       "      <th></th>\n",
       "      <th>id</th>\n",
       "      <th>host_is_superhost</th>\n",
       "      <th>neighbourhood</th>\n",
       "      <th>latitude</th>\n",
       "      <th>longitude</th>\n",
       "      <th>property_type</th>\n",
       "      <th>room_type</th>\n",
       "      <th>accommodates</th>\n",
       "      <th>bedrooms</th>\n",
       "      <th>beds</th>\n",
       "      <th>...</th>\n",
       "      <th>review_scores_value</th>\n",
       "      <th>reviews_per_month</th>\n",
       "      <th>first_review</th>\n",
       "      <th>est_year</th>\n",
       "      <th>city</th>\n",
       "      <th>nearbyhost</th>\n",
       "      <th>nearbysuperhost</th>\n",
       "      <th>nearbyprivateroom</th>\n",
       "      <th>%overall</th>\n",
       "      <th>#listings</th>\n",
       "    </tr>\n",
       "  </thead>\n",
       "  <tbody>\n",
       "    <tr>\n",
       "      <th>0</th>\n",
       "      <td>14031240</td>\n",
       "      <td>t</td>\n",
       "      <td>NaN</td>\n",
       "      <td>-34.53891</td>\n",
       "      <td>138.97053</td>\n",
       "      <td>Room in bed and breakfast</td>\n",
       "      <td>Hotel room</td>\n",
       "      <td>2</td>\n",
       "      <td>1.0</td>\n",
       "      <td>1.0</td>\n",
       "      <td>...</td>\n",
       "      <td>4.93</td>\n",
       "      <td>0.24</td>\n",
       "      <td>2016-10-07</td>\n",
       "      <td>2016.0</td>\n",
       "      <td>beijing</td>\n",
       "      <td>0</td>\n",
       "      <td>0</td>\n",
       "      <td>0</td>\n",
       "      <td>0.880908</td>\n",
       "      <td>13.0</td>\n",
       "    </tr>\n",
       "    <tr>\n",
       "      <th>1</th>\n",
       "      <td>50904</td>\n",
       "      <td>f</td>\n",
       "      <td>NaN</td>\n",
       "      <td>51.21825</td>\n",
       "      <td>4.39901</td>\n",
       "      <td>Room in boutique hotel</td>\n",
       "      <td>Hotel room</td>\n",
       "      <td>2</td>\n",
       "      <td>1.0</td>\n",
       "      <td>1.0</td>\n",
       "      <td>...</td>\n",
       "      <td>5.00</td>\n",
       "      <td>0.03</td>\n",
       "      <td>2015-05-06</td>\n",
       "      <td>2015.0</td>\n",
       "      <td>antwerp</td>\n",
       "      <td>1</td>\n",
       "      <td>1</td>\n",
       "      <td>0</td>\n",
       "      <td>0.857000</td>\n",
       "      <td>1.0</td>\n",
       "    </tr>\n",
       "    <tr>\n",
       "      <th>2</th>\n",
       "      <td>891884</td>\n",
       "      <td>f</td>\n",
       "      <td>Antwerp, Flemish Region, Belgium</td>\n",
       "      <td>51.21825</td>\n",
       "      <td>4.39901</td>\n",
       "      <td>Room in boutique hotel</td>\n",
       "      <td>Hotel room</td>\n",
       "      <td>2</td>\n",
       "      <td>1.0</td>\n",
       "      <td>1.0</td>\n",
       "      <td>...</td>\n",
       "      <td>4.50</td>\n",
       "      <td>0.08</td>\n",
       "      <td>2019-10-20</td>\n",
       "      <td>2019.0</td>\n",
       "      <td>antwerp</td>\n",
       "      <td>1</td>\n",
       "      <td>1</td>\n",
       "      <td>0</td>\n",
       "      <td>0.788800</td>\n",
       "      <td>2.0</td>\n",
       "    </tr>\n",
       "    <tr>\n",
       "      <th>3</th>\n",
       "      <td>33005678</td>\n",
       "      <td>f</td>\n",
       "      <td>NaN</td>\n",
       "      <td>51.21039</td>\n",
       "      <td>4.42708</td>\n",
       "      <td>Room in aparthotel</td>\n",
       "      <td>Hotel room</td>\n",
       "      <td>2</td>\n",
       "      <td>1.0</td>\n",
       "      <td>2.0</td>\n",
       "      <td>...</td>\n",
       "      <td>4.35</td>\n",
       "      <td>0.56</td>\n",
       "      <td>2019-05-05</td>\n",
       "      <td>2019.0</td>\n",
       "      <td>antwerp</td>\n",
       "      <td>1</td>\n",
       "      <td>1</td>\n",
       "      <td>0</td>\n",
       "      <td>0.243918</td>\n",
       "      <td>17.0</td>\n",
       "    </tr>\n",
       "    <tr>\n",
       "      <th>4</th>\n",
       "      <td>33005778</td>\n",
       "      <td>f</td>\n",
       "      <td>NaN</td>\n",
       "      <td>51.21039</td>\n",
       "      <td>4.42708</td>\n",
       "      <td>Room in aparthotel</td>\n",
       "      <td>Hotel room</td>\n",
       "      <td>2</td>\n",
       "      <td>1.0</td>\n",
       "      <td>2.0</td>\n",
       "      <td>...</td>\n",
       "      <td>3.96</td>\n",
       "      <td>0.75</td>\n",
       "      <td>2019-04-22</td>\n",
       "      <td>2019.0</td>\n",
       "      <td>antwerp</td>\n",
       "      <td>1</td>\n",
       "      <td>1</td>\n",
       "      <td>0</td>\n",
       "      <td>0.098922</td>\n",
       "      <td>23.0</td>\n",
       "    </tr>\n",
       "  </tbody>\n",
       "</table>\n",
       "<p>5 rows × 27 columns</p>\n",
       "</div>"
      ],
      "text/plain": [
       "         id host_is_superhost                     neighbourhood  latitude  \\\n",
       "0  14031240                 t                               NaN -34.53891   \n",
       "1     50904                 f                               NaN  51.21825   \n",
       "2    891884                 f  Antwerp, Flemish Region, Belgium  51.21825   \n",
       "3  33005678                 f                               NaN  51.21039   \n",
       "4  33005778                 f                               NaN  51.21039   \n",
       "\n",
       "   longitude              property_type   room_type  accommodates  bedrooms  \\\n",
       "0  138.97053  Room in bed and breakfast  Hotel room             2       1.0   \n",
       "1    4.39901     Room in boutique hotel  Hotel room             2       1.0   \n",
       "2    4.39901     Room in boutique hotel  Hotel room             2       1.0   \n",
       "3    4.42708         Room in aparthotel  Hotel room             2       1.0   \n",
       "4    4.42708         Room in aparthotel  Hotel room             2       1.0   \n",
       "\n",
       "   beds  ... review_scores_value  reviews_per_month  first_review  est_year  \\\n",
       "0   1.0  ...                4.93               0.24    2016-10-07    2016.0   \n",
       "1   1.0  ...                5.00               0.03    2015-05-06    2015.0   \n",
       "2   1.0  ...                4.50               0.08    2019-10-20    2019.0   \n",
       "3   2.0  ...                4.35               0.56    2019-05-05    2019.0   \n",
       "4   2.0  ...                3.96               0.75    2019-04-22    2019.0   \n",
       "\n",
       "      city  nearbyhost  nearbysuperhost  nearbyprivateroom  %overall #listings  \n",
       "0  beijing           0                0                  0  0.880908      13.0  \n",
       "1  antwerp           1                1                  0  0.857000       1.0  \n",
       "2  antwerp           1                1                  0  0.788800       2.0  \n",
       "3  antwerp           1                1                  0  0.243918      17.0  \n",
       "4  antwerp           1                1                  0  0.098922      23.0  \n",
       "\n",
       "[5 rows x 27 columns]"
      ]
     },
     "execution_count": 12,
     "metadata": {},
     "output_type": "execute_result"
    }
   ],
   "source": [
    "df_final = df_hotels.merge(df_temp,on ='id',how='left')\n",
    "df_final['nearbyhost'] = df_final['nearbyhost'].astype(str)\n",
    "df_final['nearbysuperhost'] = df_final['nearbysuperhost'].astype(str)\n",
    "df_final['nearbyprivateroom'] = df_final['nearbyprivateroom'].astype(str)\n",
    "df_final.head()"
   ]
  },
  {
   "cell_type": "code",
   "execution_count": 13,
   "id": "9ae42b08",
   "metadata": {},
   "outputs": [],
   "source": [
    "df_listings['roomType'] = ''\n",
    "for i,r in df_listings.iterrows():\n",
    "    if(r['room_type'] == 'Hotel room'):\n",
    "        df_listings.loc[i,'roomType'] = 'Hotels'\n",
    "    else:\n",
    "        df_listings.loc[i,'roomType'] = 'Regular hosts'"
   ]
  },
  {
   "cell_type": "markdown",
   "id": "c6d8638e",
   "metadata": {},
   "source": [
    "### Exploratory Data Analysis "
   ]
  },
  {
   "cell_type": "markdown",
   "id": "e4e95507",
   "metadata": {},
   "source": [
    "**Number of listings by Airbnb type**"
   ]
  },
  {
   "cell_type": "code",
   "execution_count": 14,
   "id": "11faa0d5",
   "metadata": {},
   "outputs": [
    {
     "data": {
      "image/png": "[encoded data removed]",
      "text/plain": [
       "<Figure size 800x480 with 1 Axes>"
      ]
     },
     "metadata": {
      "needs_background": "light"
     },
     "output_type": "display_data"
    }
   ],
   "source": [
    "l = df_listings['room_type'].value_counts()\n",
    "figure(figsize=(10, 6), dpi=80)\n",
    "plt.bar(l.index, l.values, width=0.4, color='salmon', align='center', label = '#listings')\n",
    "plt.title(\"Number of listings by Airbnb type\")\n",
    "plt.ylabel(\"Number of listings\")\n",
    "plt.xlabel(\"Airbnb Type\")\n",
    "plt.show()"
   ]
  },
  {
   "cell_type": "markdown",
   "id": "1434e0b5",
   "metadata": {},
   "source": [
    "**Number of New Hotel room listings as Airbnb by Year**"
   ]
  },
  {
   "cell_type": "code",
   "execution_count": 15,
   "id": "5519f00f",
   "metadata": {},
   "outputs": [
    {
     "data": {
      "image/png": "[encoded data removed]",
      "text/plain": [
       "<Figure size 800x480 with 1 Axes>"
      ]
     },
     "metadata": {
      "needs_background": "light"
     },
     "output_type": "display_data"
    }
   ],
   "source": [
    "l = df_hotels['est_year'].value_counts()\n",
    "a= []\n",
    "b= []\n",
    "for index, (value1, value2) in enumerate(zip(list(l.index), list(l.values))):\n",
    "    if(~(math.isnan(value1))):\n",
    "        a.append(str(value1))\n",
    "        b.append(value2)\n",
    "figure(figsize=(10, 6), dpi=80)\n",
    "plt.bar(l.index, l.values, width=0.4, color='salmon', align='center', label = '#listings')\n",
    "plt.title(\"Number of New Hotel room listings as Airbnb by Year\")\n",
    "plt.ylabel(\"Number of listings\")\n",
    "plt.xlabel(\"Year\")\n",
    "plt.show()"
   ]
  },
  {
   "cell_type": "markdown",
   "id": "d763b9fe",
   "metadata": {},
   "source": [
    "**Number of listings by Airbnb type and city**"
   ]
  },
  {
   "cell_type": "code",
   "execution_count": 16,
   "id": "fc062d84",
   "metadata": {},
   "outputs": [
    {
     "data": {
      "image/png": "[encoded data removed]",
      "text/plain": [
       "<Figure size 864x432 with 1 Axes>"
      ]
     },
     "metadata": {
      "needs_background": "light"
     },
     "output_type": "display_data"
    }
   ],
   "source": [
    "df1 = df_listings.groupby(['city', 'roomType'])['id'].count().unstack().fillna(0)\n",
    "my_colors = list(islice(cycle(['salmon', 'orange']), None, len(df1)))\n",
    "df1.plot(kind='bar', figsize=(12, 6), color = my_colors)\n",
    "plt.title('Number of listings by Airbnb type and city')\n",
    "plt.xticks(rotation=0, ha='center')\n",
    "plt.legend(loc = 1)\n",
    "plt.show()"
   ]
  },
  {
   "cell_type": "markdown",
   "id": "edf43476",
   "metadata": {},
   "source": [
    "**Average Occupancy per month by Airbnb type**"
   ]
  },
  {
   "cell_type": "code",
   "execution_count": 17,
   "id": "78924e38",
   "metadata": {},
   "outputs": [
    {
     "data": {
      "image/png": "[encoded data removed]",
      "text/plain": [
       "<Figure size 800x480 with 1 Axes>"
      ]
     },
     "metadata": {
      "needs_background": "light"
     },
     "output_type": "display_data"
    }
   ],
   "source": [
    "l = df_listings.groupby('room_type').mean()['reviews_per_month']\n",
    "figure(figsize=(10, 6), dpi=80)\n",
    "plt.bar(l.index, l.values, width=0.4, color='salmon', align='center', label = '#listings')\n",
    "plt.title(\"Average Occupancy per month by Airbnb type\")\n",
    "plt.ylabel(\"Average Occupancy\")\n",
    "plt.xlabel(\"Airbnb Type\")\n",
    "plt.show()"
   ]
  },
  {
   "cell_type": "markdown",
   "id": "37b0b371",
   "metadata": {},
   "source": [
    "**Average Occupancy per month by Airbnb type and city**"
   ]
  },
  {
   "cell_type": "code",
   "execution_count": 18,
   "id": "904c14ed",
   "metadata": {},
   "outputs": [
    {
     "data": {
      "image/png": "[encoded data removed]",
      "text/plain": [
       "<Figure size 864x432 with 1 Axes>"
      ]
     },
     "metadata": {
      "needs_background": "light"
     },
     "output_type": "display_data"
    }
   ],
   "source": [
    "df1 = df_listings.groupby(['city', 'roomType'])['reviews_per_month'].mean().unstack().fillna(0)\n",
    "my_colors = list(islice(cycle(['salmon', 'orange']), None, len(df1)))\n",
    "df1.plot(kind='bar', figsize=(12, 6), color=my_colors)\n",
    "plt.title('Average Occupancy per month by Airbnb type and city')\n",
    "plt.ylabel(\"Average Occupancy\")\n",
    "plt.xticks(rotation=0, ha='center')\n",
    "plt.legend(loc = 1)\n",
    "plt.show()"
   ]
  },
  {
   "cell_type": "markdown",
   "id": "77ed4f31",
   "metadata": {},
   "source": [
    "**Average Ratings by Airbnb type**"
   ]
  },
  {
   "cell_type": "code",
   "execution_count": 19,
   "id": "fc3dc6c1",
   "metadata": {},
   "outputs": [
    {
     "data": {
      "image/png": "[encoded data removed]",
      "text/plain": [
       "<Figure size 800x480 with 1 Axes>"
      ]
     },
     "metadata": {
      "needs_background": "light"
     },
     "output_type": "display_data"
    }
   ],
   "source": [
    "l = df_listings.groupby('room_type').mean()['review_scores_value']\n",
    "figure(figsize=(10, 6), dpi=80)\n",
    "plt.bar(l.index, l.values, width=0.4, color='salmon', align='center', label = '#listings')\n",
    "plt.title(\"Average Ratings by Airbnb type\")\n",
    "plt.ylabel(\"Average Ratings\")\n",
    "plt.xlabel(\"Airbnb Type\")\n",
    "plt.show()"
   ]
  },
  {
   "cell_type": "markdown",
   "id": "91030b0c",
   "metadata": {},
   "source": [
    "**Average Ratings by Airbnb type and city**"
   ]
  },
  {
   "cell_type": "code",
   "execution_count": 20,
   "id": "153aed4d",
   "metadata": {},
   "outputs": [
    {
     "data": {
      "image/png": "[encoded data removed]",
      "text/plain": [
       "<Figure size 864x432 with 1 Axes>"
      ]
     },
     "metadata": {
      "needs_background": "light"
     },
     "output_type": "display_data"
    }
   ],
   "source": [
    "df1 = df_listings.groupby(['city', 'roomType'])['review_scores_value'].mean().unstack().fillna(0)\n",
    "my_colors = list(islice(cycle(['salmon', 'orange']), None, len(df1)))\n",
    "df1.plot(kind='bar', figsize=(12, 6), color = my_colors)\n",
    "plt.title('Average Ratings by Airbnb type and city')\n",
    "plt.ylabel(\"Average Ratings\")\n",
    "plt.xticks(rotation=0, ha='center')\n",
    "plt.legend(loc = 1)\n",
    "plt.show()"
   ]
  },
  {
   "cell_type": "markdown",
   "id": "90568d72",
   "metadata": {},
   "source": [
    "### Effect of nearby regular host on boutique hotel"
   ]
  },
  {
   "cell_type": "markdown",
   "id": "ad18b845",
   "metadata": {},
   "source": [
    "**Number of Hotel room listings**"
   ]
  },
  {
   "cell_type": "code",
   "execution_count": 21,
   "id": "c574523f",
   "metadata": {},
   "outputs": [
    {
     "data": {
      "image/png": "[encoded data removed]",
      "text/plain": [
       "<Figure size 640x480 with 1 Axes>"
      ]
     },
     "metadata": {
      "needs_background": "light"
     },
     "output_type": "display_data"
    }
   ],
   "source": [
    "l = df_final['nearbyhost'].value_counts()\n",
    "figure(figsize=(8, 6), dpi=80)\n",
    "plt.bar(l.index, l.values, width=0.4, color='salmon', align='center', label = '#listings')\n",
    "plt.title(\"Number of Hotel room listings\")\n",
    "plt.ylabel(\"#listings\")\n",
    "plt.xlabel(\"IsNearbyRegularHost\")\n",
    "plt.show()"
   ]
  },
  {
   "cell_type": "markdown",
   "id": "7fbe7156",
   "metadata": {},
   "source": [
    "**Average Occupancy per month for Hotel room**"
   ]
  },
  {
   "cell_type": "code",
   "execution_count": 22,
   "id": "5830ce09",
   "metadata": {},
   "outputs": [
    {
     "data": {
      "image/png": "[encoded data removed]",
      "text/plain": [
       "<Figure size 864x432 with 1 Axes>"
      ]
     },
     "metadata": {
      "needs_background": "light"
     },
     "output_type": "display_data"
    }
   ],
   "source": [
    "df1 = df_final.groupby(['nearbyhost'])['reviews_per_month'].mean()\n",
    "my_colors = list(islice(cycle(['salmon', 'orange']), None, len(df1)))\n",
    "df1.plot(kind='bar', figsize=(12, 6), color = my_colors)\n",
    "plt.title('Average Occupancy per month for Hotel room')\n",
    "plt.xticks(rotation=0, ha='center')\n",
    "plt.ylabel(\"Average occupancy\")\n",
    "plt.show()"
   ]
  },
  {
   "cell_type": "markdown",
   "id": "2117d190",
   "metadata": {},
   "source": [
    "### Effect of nearby super host on boutique hotel"
   ]
  },
  {
   "cell_type": "markdown",
   "id": "15eb58e6",
   "metadata": {},
   "source": [
    "**Number of Hotel room listings**"
   ]
  },
  {
   "cell_type": "code",
   "execution_count": 23,
   "id": "66a7893e",
   "metadata": {},
   "outputs": [
    {
     "data": {
      "image/png": "[encoded data removed]",
      "text/plain": [
       "<Figure size 640x480 with 1 Axes>"
      ]
     },
     "metadata": {
      "needs_background": "light"
     },
     "output_type": "display_data"
    }
   ],
   "source": [
    "l = df_final['nearbysuperhost'].value_counts()\n",
    "figure(figsize=(8, 6), dpi=80)\n",
    "plt.bar(l.index, l.values, width=0.4, color='salmon', align='center', label = '#listings')\n",
    "plt.title(\"Number of Hotel room listings\")\n",
    "plt.ylabel(\"#listings\")\n",
    "plt.xlabel(\"IsNearbySuperHost\")\n",
    "plt.show()"
   ]
  },
  {
   "cell_type": "markdown",
   "id": "74c4d6c3",
   "metadata": {},
   "source": [
    "**Average Occupancy per month for Hotel room**"
   ]
  },
  {
   "cell_type": "code",
   "execution_count": 24,
   "id": "16c7cfac",
   "metadata": {},
   "outputs": [
    {
     "data": {
      "image/png": "[encoded data removed]",
      "text/plain": [
       "<Figure size 864x432 with 1 Axes>"
      ]
     },
     "metadata": {
      "needs_background": "light"
     },
     "output_type": "display_data"
    }
   ],
   "source": [
    "df1 = df_final.groupby(['nearbysuperhost'])['reviews_per_month'].mean()\n",
    "my_colors = list(islice(cycle(['salmon', 'orange']), None, len(df1)))\n",
    "df1.plot(kind='bar', figsize=(12, 6), color = my_colors)\n",
    "plt.title('Average Occupancy per month for Hotel room')\n",
    "plt.xticks(rotation=0, ha='center')\n",
    "plt.show()"
   ]
  },
  {
   "cell_type": "markdown",
   "id": "5ba0b5e1",
   "metadata": {},
   "source": [
    "### Effect of nearbyprivate rrom type airbnb on boutique hotel"
   ]
  },
  {
   "cell_type": "markdown",
   "id": "79095049",
   "metadata": {},
   "source": [
    "**Number of Hotel room listings**"
   ]
  },
  {
   "cell_type": "code",
   "execution_count": 25,
   "id": "ce6d49ef",
   "metadata": {},
   "outputs": [
    {
     "data": {
      "image/png": "[encoded data removed]",
      "text/plain": [
       "<Figure size 640x480 with 1 Axes>"
      ]
     },
     "metadata": {
      "needs_background": "light"
     },
     "output_type": "display_data"
    }
   ],
   "source": [
    "df_final['nearbyprivateroom'] = df_final['nearbyprivateroom'].astype(str)\n",
    "l = df_final['nearbyprivateroom'].value_counts()\n",
    "figure(figsize=(8, 6), dpi=80)\n",
    "plt.bar(l.index, l.values, width=0.4, color='salmon', align='center', label = '#listings')\n",
    "plt.title(\"Number of Hotel room listings\")\n",
    "plt.ylabel(\"#listings\")\n",
    "plt.xlabel(\"IsNearbyPrivateRoom\")\n",
    "plt.show()"
   ]
  },
  {
   "cell_type": "markdown",
   "id": "e10d1fe3",
   "metadata": {},
   "source": [
    "**Average Occupancy per month for Hotel room**"
   ]
  },
  {
   "cell_type": "code",
   "execution_count": 26,
   "id": "75b47b7e",
   "metadata": {},
   "outputs": [
    {
     "data": {
      "image/png": "[encoded data removed]",
      "text/plain": [
       "<Figure size 864x432 with 1 Axes>"
      ]
     },
     "metadata": {
      "needs_background": "light"
     },
     "output_type": "display_data"
    }
   ],
   "source": [
    "df1 = df_final.groupby(['nearbyprivateroom'])['reviews_per_month'].mean()\n",
    "my_colors = list(islice(cycle(['salmon', 'orange']), None, len(df1)))\n",
    "df1.plot(kind='bar', figsize=(12, 6), color = my_colors)\n",
    "plt.title('Average Occupancy per month for Hotel room')\n",
    "plt.xticks(rotation=0, ha='center')\n",
    "plt.show()"
   ]
  },
  {
   "cell_type": "markdown",
   "id": "a7138f55",
   "metadata": {},
   "source": [
    "**Average Occupancy per month for Hotel room by city (nearbyprivateroom)**"
   ]
  },
  {
   "cell_type": "code",
   "execution_count": 27,
   "id": "4527dc4a",
   "metadata": {},
   "outputs": [
    {
     "data": {
      "image/png": "[encoded data removed]",
      "text/plain": [
       "<Figure size 864x432 with 1 Axes>"
      ]
     },
     "metadata": {
      "needs_background": "light"
     },
     "output_type": "display_data"
    }
   ],
   "source": [
    "df1 = df_final.groupby(['city','nearbyprivateroom'])['reviews_per_month'].mean().unstack().fillna(0)\n",
    "my_colors = list(islice(cycle(['salmon', 'orange']), None, len(df1)))\n",
    "df1.plot(kind='bar', figsize=(12, 6), color = my_colors)\n",
    "plt.title('Average Occupancy per month for Hotel room by city (nearbyprivateroom)')\n",
    "plt.ylabel(\"Average Occupancy\")\n",
    "plt.xticks(rotation=0, ha='center')\n",
    "plt.legend(loc = 1)\n",
    "plt.show()"
   ]
  },
  {
   "cell_type": "markdown",
   "id": "d2d9ff5b",
   "metadata": {},
   "source": [
    "**Average Occupancy per month for Hotel room by city (nearbysuperhost)**"
   ]
  },
  {
   "cell_type": "code",
   "execution_count": 28,
   "id": "bbb64779",
   "metadata": {},
   "outputs": [
    {
     "data": {
      "image/png": "[encoded data removed]",
      "text/plain": [
       "<Figure size 864x432 with 1 Axes>"
      ]
     },
     "metadata": {
      "needs_background": "light"
     },
     "output_type": "display_data"
    }
   ],
   "source": [
    "df1 = df_final.groupby(['city','nearbysuperhost'])['reviews_per_month'].mean().unstack().fillna(0)\n",
    "my_colors = list(islice(cycle(['salmon', 'orange']), None, len(df1)))\n",
    "df1.plot(kind='bar', figsize=(12, 6), color = my_colors)\n",
    "plt.title('Average Occupancy per month for Hotel room by city (nearbysuperhost)')\n",
    "plt.ylabel(\"Average Occupancy\")\n",
    "plt.xticks(rotation=0, ha='center')\n",
    "plt.legend(loc = 1)\n",
    "plt.show()"
   ]
  },
  {
   "cell_type": "markdown",
   "id": "9e221c34",
   "metadata": {},
   "source": [
    "**Average Occupancy per month for Hotel room by city (nearbyhost)**"
   ]
  },
  {
   "cell_type": "code",
   "execution_count": 29,
   "id": "a6c697a0",
   "metadata": {},
   "outputs": [
    {
     "data": {
      "image/png": "[encoded data removed]",
      "text/plain": [
       "<Figure size 864x432 with 1 Axes>"
      ]
     },
     "metadata": {
      "needs_background": "light"
     },
     "output_type": "display_data"
    }
   ],
   "source": [
    "df1 = df_final.groupby(['city','nearbyhost'])['reviews_per_month'].mean().unstack().fillna(0)\n",
    "my_colors = list(islice(cycle(['salmon', 'orange']), None, len(df1)))\n",
    "df1.plot(kind='bar', figsize=(12, 6), color = my_colors)\n",
    "plt.title('Average Occupancy per month for Hotel room by city (nearbyhost)')\n",
    "plt.ylabel(\"Average Occupancy\")\n",
    "plt.xticks(rotation=0, ha='center')\n",
    "plt.legend(loc = 1)\n",
    "plt.show()"
   ]
  },
  {
   "cell_type": "markdown",
   "id": "547ccfdf",
   "metadata": {},
   "source": [
    "### Hypothesis Testing"
   ]
  },
  {
   "cell_type": "code",
   "execution_count": 30,
   "id": "bdab9d09",
   "metadata": {},
   "outputs": [],
   "source": [
    "df_final.to_csv('df_final.csv', index = False)\n",
    "df_listings.to_csv('df_listings.csv', index = False)"
   ]
  },
  {
   "cell_type": "code",
   "execution_count": 31,
   "id": "8ea2ed74",
   "metadata": {},
   "outputs": [],
   "source": [
    "#returns pvalue \n",
    "def ttest(l1,l2):\n",
    "    return stats.ttest_ind(l1,l2)[1]"
   ]
  },
  {
   "cell_type": "markdown",
   "id": "2a1934cb",
   "metadata": {},
   "source": [
    "**Effect of nearby super host on reviews per month of a boutique hotel**"
   ]
  },
  {
   "cell_type": "code",
   "execution_count": 32,
   "id": "c2750546",
   "metadata": {},
   "outputs": [
    {
     "data": {
      "text/plain": [
       "0.06941441817179118"
      ]
     },
     "execution_count": 32,
     "metadata": {},
     "output_type": "execute_result"
    }
   ],
   "source": [
    "ttest(df_final[df_final['nearbysuperhost']=='0']['reviews_per_month'].dropna(),df_final[df_final['nearbysuperhost']=='1']['reviews_per_month'].dropna())"
   ]
  },
  {
   "cell_type": "markdown",
   "id": "bc3d9aaf",
   "metadata": {},
   "source": [
    "**Effect of nearby private room on reviews per month of a boutique hotel**"
   ]
  },
  {
   "cell_type": "code",
   "execution_count": 33,
   "id": "464d93f0",
   "metadata": {},
   "outputs": [
    {
     "data": {
      "text/plain": [
       "0.017170143266385524"
      ]
     },
     "execution_count": 33,
     "metadata": {},
     "output_type": "execute_result"
    }
   ],
   "source": [
    "ttest(df_final[df_final['nearbyprivateroom']=='0']['reviews_per_month'].dropna(),df_final[df_final['nearbyprivateroom']=='1']['reviews_per_month'].dropna())"
   ]
  },
  {
   "cell_type": "code",
   "execution_count": 43,
   "id": "b8ae18ca",
   "metadata": {},
   "outputs": [],
   "source": [
    "df_final1 = df_final[['beds','price','reviews_per_month','review_scores_value','nearbyhost', 'nearbysuperhost', 'nearbyprivateroom', '%overall', '#listings']].copy()"
   ]
  },
  {
   "cell_type": "markdown",
   "id": "09ef5835",
   "metadata": {},
   "source": [
    "### Regression Modelling "
   ]
  },
  {
   "cell_type": "code",
   "execution_count": 44,
   "id": "0d87c229",
   "metadata": {},
   "outputs": [
    {
     "name": "stdout",
     "output_type": "stream",
     "text": [
      "<class 'pandas.core.frame.DataFrame'>\n",
      "Int64Index: 1661 entries, 0 to 1660\n",
      "Data columns (total 9 columns):\n",
      " #   Column               Non-Null Count  Dtype  \n",
      "---  ------               --------------  -----  \n",
      " 0   beds                 1631 non-null   float64\n",
      " 1   price                1661 non-null   float64\n",
      " 2   reviews_per_month    1163 non-null   float64\n",
      " 3   review_scores_value  1157 non-null   float64\n",
      " 4   nearbyhost           1661 non-null   object \n",
      " 5   nearbysuperhost      1661 non-null   object \n",
      " 6   nearbyprivateroom    1661 non-null   object \n",
      " 7   %overall             1093 non-null   float64\n",
      " 8   #listings            1093 non-null   float64\n",
      "dtypes: float64(6), object(3)\n",
      "memory usage: 129.8+ KB\n"
     ]
    }
   ],
   "source": [
    "df_final1['price'] = df_final1['price'].replace({'\\$':''}, regex = True)\n",
    "df_final1['price'] = df_final1['price'].replace({',':''}, regex = True)\n",
    "df_final1['price'] = df_final1['price'].astype(float)\n",
    "df_final1.info()"
   ]
  },
  {
   "cell_type": "code",
   "execution_count": 45,
   "id": "3a36173b",
   "metadata": {},
   "outputs": [],
   "source": [
    "df_final2 = pd.get_dummies(df_final1,drop_first=True)\n",
    "df_final2.dropna(inplace=True)"
   ]
  },
  {
   "cell_type": "code",
   "execution_count": 46,
   "id": "22745760",
   "metadata": {},
   "outputs": [],
   "source": [
    "#log transformation on skwewed features\n",
    "col = ['beds','price','reviews_per_month','review_scores_value', '%overall', '#listings']\n",
    "for c in col:\n",
    "    df_final2[c] = np.log(df_final2[c]+1)"
   ]
  },
  {
   "cell_type": "code",
   "execution_count": 47,
   "id": "c8e8669d",
   "metadata": {
    "scrolled": true
   },
   "outputs": [
    {
     "data": {
      "image/png": "[encoded data removed]",
      "text/plain": [
       "<Figure size 1440x1080 with 9 Axes>"
      ]
     },
     "metadata": {
      "needs_background": "light"
     },
     "output_type": "display_data"
    }
   ],
   "source": [
    "#checking distribution after trasnformations\n",
    "df_final2.hist(figsize=(20, 15))\n",
    "plt.show()"
   ]
  },
  {
   "cell_type": "code",
   "execution_count": 48,
   "id": "89a303bb",
   "metadata": {},
   "outputs": [],
   "source": [
    "df_final2.rename(columns = {'reviews_per_month':'average_bookings_per_month'},inplace = True)"
   ]
  },
  {
   "cell_type": "markdown",
   "id": "d3e66930",
   "metadata": {},
   "source": [
    "**OLS Model**"
   ]
  },
  {
   "cell_type": "code",
   "execution_count": 49,
   "id": "213032d4",
   "metadata": {},
   "outputs": [
    {
     "data": {
      "text/html": [
       "<table class=\"simpletable\">\n",
       "<caption>OLS Regression Results</caption>\n",
       "<tr>\n",
       "  <th>Dep. Variable:</th>    <td>average_bookings_per_month</td> <th>  R-squared (uncentered):</th>      <td>   0.473</td> \n",
       "</tr>\n",
       "<tr>\n",
       "  <th>Model:</th>                        <td>OLS</td>            <th>  Adj. R-squared (uncentered):</th> <td>   0.470</td> \n",
       "</tr>\n",
       "<tr>\n",
       "  <th>Method:</th>                  <td>Least Squares</td>       <th>  F-statistic:       </th>          <td>   159.9</td> \n",
       "</tr>\n",
       "<tr>\n",
       "  <th>Date:</th>                  <td>Sun, 06 Mar 2022</td>      <th>  Prob (F-statistic):</th>          <td>6.64e-145</td>\n",
       "</tr>\n",
       "<tr>\n",
       "  <th>Time:</th>                      <td>01:25:00</td>          <th>  Log-Likelihood:    </th>          <td> -659.99</td> \n",
       "</tr>\n",
       "<tr>\n",
       "  <th>No. Observations:</th>           <td>  1076</td>           <th>  AIC:               </th>          <td>   1332.</td> \n",
       "</tr>\n",
       "<tr>\n",
       "  <th>Df Residuals:</th>               <td>  1070</td>           <th>  BIC:               </th>          <td>   1362.</td> \n",
       "</tr>\n",
       "<tr>\n",
       "  <th>Df Model:</th>                   <td>     6</td>           <th>                     </th>              <td> </td>    \n",
       "</tr>\n",
       "<tr>\n",
       "  <th>Covariance Type:</th>           <td>nonrobust</td>         <th>                     </th>              <td> </td>    \n",
       "</tr>\n",
       "</table>\n",
       "<table class=\"simpletable\">\n",
       "<tr>\n",
       "           <td></td>              <th>coef</th>     <th>std err</th>      <th>t</th>      <th>P>|t|</th>  <th>[0.025</th>    <th>0.975]</th>  \n",
       "</tr>\n",
       "<tr>\n",
       "  <th>beds</th>                <td>   -0.0932</td> <td>    0.025</td> <td>   -3.805</td> <td> 0.000</td> <td>   -0.141</td> <td>   -0.045</td>\n",
       "</tr>\n",
       "<tr>\n",
       "  <th>price</th>               <td>   -0.0688</td> <td>    0.010</td> <td>   -7.204</td> <td> 0.000</td> <td>   -0.088</td> <td>   -0.050</td>\n",
       "</tr>\n",
       "<tr>\n",
       "  <th>review_scores_value</th> <td>    0.4976</td> <td>    0.049</td> <td>   10.138</td> <td> 0.000</td> <td>    0.401</td> <td>    0.594</td>\n",
       "</tr>\n",
       "<tr>\n",
       "  <th>nearbyhost_1</th>        <td>    0.0541</td> <td>    0.065</td> <td>    0.832</td> <td> 0.406</td> <td>   -0.074</td> <td>    0.182</td>\n",
       "</tr>\n",
       "<tr>\n",
       "  <th>nearbysuperhost_1</th>   <td>    0.0194</td> <td>    0.039</td> <td>    0.504</td> <td> 0.615</td> <td>   -0.056</td> <td>    0.095</td>\n",
       "</tr>\n",
       "<tr>\n",
       "  <th>nearbyprivateroom_1</th> <td>    0.0059</td> <td>    0.034</td> <td>    0.173</td> <td> 0.863</td> <td>   -0.061</td> <td>    0.073</td>\n",
       "</tr>\n",
       "</table>\n",
       "<table class=\"simpletable\">\n",
       "<tr>\n",
       "  <th>Omnibus:</th>       <td>381.436</td> <th>  Durbin-Watson:     </th> <td>   1.438</td> \n",
       "</tr>\n",
       "<tr>\n",
       "  <th>Prob(Omnibus):</th> <td> 0.000</td>  <th>  Jarque-Bera (JB):  </th> <td>1228.752</td> \n",
       "</tr>\n",
       "<tr>\n",
       "  <th>Skew:</th>          <td> 1.762</td>  <th>  Prob(JB):          </th> <td>1.51e-267</td>\n",
       "</tr>\n",
       "<tr>\n",
       "  <th>Kurtosis:</th>      <td> 6.872</td>  <th>  Cond. No.          </th> <td>    35.7</td> \n",
       "</tr>\n",
       "</table><br/><br/>Notes:<br/>[1] R² is computed without centering (uncentered) since the model does not contain a constant.<br/>[2] Standard Errors assume that the covariance matrix of the errors is correctly specified."
      ],
      "text/plain": [
       "<class 'statsmodels.iolib.summary.Summary'>\n",
       "\"\"\"\n",
       "                                     OLS Regression Results                                    \n",
       "===============================================================================================\n",
       "Dep. Variable:     average_bookings_per_month   R-squared (uncentered):                   0.473\n",
       "Model:                                    OLS   Adj. R-squared (uncentered):              0.470\n",
       "Method:                         Least Squares   F-statistic:                              159.9\n",
       "Date:                        Sun, 06 Mar 2022   Prob (F-statistic):                   6.64e-145\n",
       "Time:                                01:25:00   Log-Likelihood:                         -659.99\n",
       "No. Observations:                        1076   AIC:                                      1332.\n",
       "Df Residuals:                            1070   BIC:                                      1362.\n",
       "Df Model:                                   6                                                  \n",
       "Covariance Type:                    nonrobust                                                  \n",
       "=======================================================================================\n",
       "                          coef    std err          t      P>|t|      [0.025      0.975]\n",
       "---------------------------------------------------------------------------------------\n",
       "beds                   -0.0932      0.025     -3.805      0.000      -0.141      -0.045\n",
       "price                  -0.0688      0.010     -7.204      0.000      -0.088      -0.050\n",
       "review_scores_value     0.4976      0.049     10.138      0.000       0.401       0.594\n",
       "nearbyhost_1            0.0541      0.065      0.832      0.406      -0.074       0.182\n",
       "nearbysuperhost_1       0.0194      0.039      0.504      0.615      -0.056       0.095\n",
       "nearbyprivateroom_1     0.0059      0.034      0.173      0.863      -0.061       0.073\n",
       "==============================================================================\n",
       "Omnibus:                      381.436   Durbin-Watson:                   1.438\n",
       "Prob(Omnibus):                  0.000   Jarque-Bera (JB):             1228.752\n",
       "Skew:                           1.762   Prob(JB):                    1.51e-267\n",
       "Kurtosis:                       6.872   Cond. No.                         35.7\n",
       "==============================================================================\n",
       "\n",
       "Notes:\n",
       "[1] R² is computed without centering (uncentered) since the model does not contain a constant.\n",
       "[2] Standard Errors assume that the covariance matrix of the errors is correctly specified.\n",
       "\"\"\""
      ]
     },
     "execution_count": 49,
     "metadata": {},
     "output_type": "execute_result"
    }
   ],
   "source": [
    "X = df_final2.drop(columns = ['average_bookings_per_month', '#listings','%overall'])\n",
    "y = df_final2[['average_bookings_per_month']]\n",
    "\n",
    "OLS(y,X).fit().summary()"
   ]
  },
  {
   "cell_type": "code",
   "execution_count": null,
   "id": "da70b974",
   "metadata": {},
   "outputs": [],
   "source": []
  }
 ],
 "metadata": {
  "kernelspec": {
   "display_name": "Python 3",
   "language": "python",
   "name": "python3"
  }
 },
 "nbformat": 4,
 "nbformat_minor": 5
}
